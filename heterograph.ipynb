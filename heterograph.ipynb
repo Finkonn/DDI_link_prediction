{
 "cells": [
  {
   "cell_type": "code",
   "execution_count": null,
   "metadata": {},
   "outputs": [],
   "source": [
    "import os\n",
    "\n",
    "os.environ[\"DGLBACKEND\"] = \"pytorch\"\n",
    "\n",
    "import dgl\n",
    "import numpy as np\n",
    "import pandas as pd\n",
    "import torch\n",
    "import torch.nn as nn\n",
    "import torch.nn.functional as F\n",
    "import sqlite3"
   ]
  },
  {
   "cell_type": "code",
   "execution_count": null,
   "metadata": {},
   "outputs": [],
   "source": [
    "conn = sqlite3.connect(\"event.db\")\n",
    "df_drug = pd.read_sql('select * from drug;', conn)\n",
    "df_event = pd.read_sql('select * from event_number;', conn)\n",
    "df_interaction = pd.read_sql('select * from event;', conn)"
   ]
  },
  {
   "cell_type": "code",
   "execution_count": null,
   "metadata": {},
   "outputs": [],
   "source": [
    "drugs_to_remove = ['Fomepizole', '    Lglutamine']\n",
    "df_drug = df_drug[~df_drug['name'].isin(drugs_to_remove)]\n",
    "df_drug.reset_index(drop=True, inplace=True)"
   ]
  },
  {
   "cell_type": "code",
   "execution_count": null,
   "metadata": {},
   "outputs": [],
   "source": [
    "def get_interaction_df(df, type):\n",
    "    df_type = pd.DataFrame()\n",
    "    df_type[type] = df[type].str.split('|')\n",
    "    df_type['name'] = df['name']\n",
    "\n",
    "    new_data = {'drug': [], type: []}\n",
    "\n",
    "    for idx, row in df_type.iterrows():\n",
    "        drug = row['name']\n",
    "        others = row[type]\n",
    "        for other in others:\n",
    "            new_data['drug'].append(drug)\n",
    "            new_data[type].append(other)\n",
    "\n",
    "    type_df = pd.DataFrame(new_data)\n",
    "    \n",
    "    return type_df"
   ]
  },
  {
   "cell_type": "code",
   "execution_count": null,
   "metadata": {},
   "outputs": [],
   "source": [
    "drug_drug_df = df_interaction[['name1', 'name2']]\n",
    "drug_target_df = get_interaction_df(df_drug, 'target')\n",
    "drug_enzyme_df = get_interaction_df(df_drug, 'enzyme')\n",
    "drug_pathway_df = get_interaction_df(df_drug, 'pathway')"
   ]
  },
  {
   "cell_type": "code",
   "execution_count": null,
   "metadata": {},
   "outputs": [],
   "source": [
    "unique_drugs = pd.concat([drug_drug_df.iloc[:, 0], drug_drug_df.iloc[:, 1]]).unique()\n",
    "drug_dict = {name: i for i, name in enumerate(unique_drugs)}\n",
    "drug_drug_df.iloc[:, 0] = drug_drug_df.iloc[:, 0].map(drug_dict)\n",
    "drug_drug_df.iloc[:, 1] = drug_drug_df.iloc[:, 1].map(drug_dict)"
   ]
  },
  {
   "cell_type": "code",
   "execution_count": null,
   "metadata": {},
   "outputs": [],
   "source": [
    "def get_source_destination_nodes(df, drug_dict):\n",
    "    unique_names = df.iloc[:, 1].unique()\n",
    "    name_dict = {name: i for i, name in enumerate(unique_names)}\n",
    "\n",
    "    df.iloc[:, 0] = df.iloc[:, 0].map(drug_dict)\n",
    "    df.iloc[:, 1] = df.iloc[:, 1].map(name_dict)\n",
    "    \n",
    "    source_nodes = df.iloc[:, 0].tolist()\n",
    "    destination_nodes = df.iloc[:, 1].tolist()\n",
    "\n",
    "    return source_nodes, destination_nodes"
   ]
  },
  {
   "cell_type": "code",
   "execution_count": null,
   "metadata": {},
   "outputs": [],
   "source": [
    "drug_drug_source_nodes = drug_drug_df['name1'].tolist()\n",
    "drug_drug_destination_nodes = drug_drug_df['name2'].tolist()\n",
    "drug_target_source_nodes, drug_target_destination_nodes = get_source_destination_nodes(drug_target_df, drug_dict)\n",
    "drug_enzyme_source_nodes, drug_enzyme_destination_nodes = get_source_destination_nodes(drug_enzyme_df, drug_dict)\n",
    "drug_pathway_source_nodes, drug_pathway_destination_nodes = get_source_destination_nodes(drug_pathway_df, drug_dict)"
   ]
  },
  {
   "cell_type": "code",
   "execution_count": null,
   "metadata": {},
   "outputs": [],
   "source": [
    "# Create a heterograph with 4 node types and 4 edge types.\n",
    "graph_data = {\n",
    "   ('drug', 'interacts', 'drug'): (drug_drug_source_nodes, drug_drug_destination_nodes),\n",
    "   ('drug', 'affects', 'target'): (drug_target_source_nodes, drug_target_destination_nodes),\n",
    "   ('drug', 'regulates', 'enzyme'): (drug_enzyme_source_nodes, drug_enzyme_destination_nodes),\n",
    "   ('drug', 'alters', 'pathway'): (drug_pathway_source_nodes, drug_pathway_destination_nodes)\n",
    "}\n",
    "g = dgl.heterograph(graph_data)\n",
    "g"
   ]
  },
  {
   "cell_type": "code",
   "execution_count": null,
   "metadata": {},
   "outputs": [],
   "source": [
    "in_degrees_drug_drug = g.in_degrees(etype=('drug', 'interacts', 'drug'))\n",
    "in_degrees_drug_target = g.in_degrees(etype=('drug', 'affects', 'target'))\n",
    "in_degrees_drug_enzyme = g.in_degrees(etype=('drug', 'regulates', 'enzyme'))\n",
    "in_degrees_drug_pathway = g.in_degrees(etype=('drug', 'alters', 'pathway'))\n",
    "\n",
    "g.nodes['drug'].data['feat'] = in_degrees_drug_drug.unsqueeze(0).transpose(0, 1)\n",
    "g.nodes['target'].data['feat'] = in_degrees_drug_target.unsqueeze(0).transpose(0, 1)\n",
    "g.nodes['enzyme'].data['feat'] = in_degrees_drug_enzyme.unsqueeze(0).transpose(0, 1)\n",
    "g.nodes['pathway'].data['feat'] = in_degrees_drug_pathway.unsqueeze(0).transpose(0, 1)"
   ]
  },
  {
   "cell_type": "code",
   "execution_count": null,
   "metadata": {},
   "outputs": [],
   "source": [
    "from sklearn.model_selection import train_test_split\n",
    "\n",
    "edge_types = g.canonical_etypes\n",
    "\n",
    "train_edges = {etype: [] for etype in edge_types}\n",
    "test_edges = {etype: [] for etype in edge_types}\n",
    "\n",
    "for etype in edge_types:\n",
    "    u, v = g.edges(etype=etype)\n",
    "    eids = np.arange(g.num_edges(etype=etype))\n",
    "    eids = np.random.permutation(eids)\n",
    "    test_size = int(len(eids) * 0.3)\n",
    "    train_size = len(eids) - test_size\n",
    "\n",
    "    train_eids, test_eids = train_test_split(eids, train_size=train_size, test_size=test_size, random_state=42)\n",
    "\n",
    "    train_edges[etype].append((u[train_eids], v[train_eids]))\n",
    "    test_edges[etype].append((u[test_eids], v[test_eids]))\n",
    "\n",
    "train_g = dgl.heterograph(\n",
    "    {etype: (np.concatenate([u for u, v in train_edges[etype]]), np.concatenate([v for u, v in train_edges[etype]])) for etype in edge_types},\n",
    "    num_nodes_dict={ntype: g.num_nodes(ntype) for ntype in g.ntypes}\n",
    ")\n",
    "\n",
    "test_g = dgl.heterograph(\n",
    "    {etype: (np.concatenate([u for u, v in test_edges[etype]]), np.concatenate([v for u, v in test_edges[etype]])) for etype in edge_types},\n",
    "    num_nodes_dict={ntype: g.num_nodes(ntype) for ntype in g.ntypes}\n",
    ")\n",
    "\n",
    "for ntype in g.ntypes:\n",
    "    train_g.nodes[ntype].data['feat'] = g.nodes[ntype].data['feat']\n",
    "    \n",
    "for ntype in g.ntypes:\n",
    "    test_g.nodes[ntype].data['feat'] = g.nodes[ntype].data['feat']"
   ]
  },
  {
   "cell_type": "code",
   "execution_count": null,
   "metadata": {},
   "outputs": [],
   "source": [
    "import dgl.function as fn\n",
    "\n",
    "class HeteroDotProductPredictor(nn.Module):\n",
    "    def forward(self, graph, h, etype):\n",
    "        with graph.local_scope():\n",
    "            graph.ndata['h'] = h\n",
    "            graph.apply_edges(fn.u_dot_v('h', 'h', 'score'), etype=etype)\n",
    "            return graph.edges[etype].data['score']"
   ]
  },
  {
   "cell_type": "code",
   "execution_count": null,
   "metadata": {},
   "outputs": [],
   "source": [
    "def construct_negative_graph(graph, k, etype):\n",
    "    utype, _, vtype = etype\n",
    "    src, dst = graph.edges(etype=etype)\n",
    "    neg_src = src.repeat_interleave(k)\n",
    "    neg_dst = torch.randint(0, graph.num_nodes(vtype), (len(src) * k,))\n",
    "    return dgl.heterograph(\n",
    "        {etype: (neg_src, neg_dst)},\n",
    "        num_nodes_dict={ntype: graph.num_nodes(ntype) for ntype in graph.ntypes})"
   ]
  },
  {
   "cell_type": "code",
   "execution_count": null,
   "metadata": {},
   "outputs": [],
   "source": [
    "import dgl.nn as dglnn\n",
    "\n",
    "# Define a Heterograph Conv model\n",
    "class RGCN(nn.Module):\n",
    "    def __init__(self, in_feats, hid_feats, out_feats, rel_names):\n",
    "        super().__init__()\n",
    "\n",
    "        self.conv1 = dglnn.HeteroGraphConv({\n",
    "            rel: dglnn.GraphConv(in_feats, hid_feats)\n",
    "            for rel in rel_names}, aggregate='mean')\n",
    "        self.conv2 = dglnn.HeteroGraphConv({\n",
    "            rel: dglnn.GraphConv(hid_feats, out_feats)\n",
    "            for rel in rel_names}, aggregate='mean')\n",
    "\n",
    "    def forward(self, graph, inputs):\n",
    "        # inputs are features of nodes\n",
    "        h = self.conv1(graph, inputs)\n",
    "        h = {k: F.relu(v) for k, v in h.items()}\n",
    "        h = self.conv2(graph, h)\n",
    "        return h"
   ]
  },
  {
   "cell_type": "code",
   "execution_count": null,
   "metadata": {},
   "outputs": [],
   "source": [
    "class Model(nn.Module):\n",
    "    def __init__(self, in_features, hidden_features, out_features, rel_names):\n",
    "        super().__init__()\n",
    "        self.sage = RGCN(in_features, hidden_features, out_features, rel_names)\n",
    "        self.pred = HeteroDotProductPredictor()\n",
    "    def forward(self, g, neg_g, x, etype):\n",
    "        h = self.sage(g, x)\n",
    "        return self.pred(g, h, etype), self.pred(neg_g, h, etype)"
   ]
  },
  {
   "cell_type": "code",
   "execution_count": null,
   "metadata": {},
   "outputs": [],
   "source": [
    "def compute_loss(pos_score, neg_score):\n",
    "    # Margin loss\n",
    "    n_edges = pos_score.shape[0]\n",
    "    return (1 - pos_score + neg_score.view(n_edges, -1)).clamp(min=0).mean()\n",
    "\n",
    "k = 5\n",
    "model = Model(g.nodes['drug'].data['feat'].shape[1], 20, 5, train_g.etypes)\n",
    "\n",
    "drug_feats = train_g.nodes['drug'].data['feat']\n",
    "target_feats = train_g.nodes['target'].data['feat']\n",
    "enzyme_feats = train_g.nodes['enzyme'].data['feat']\n",
    "pathway_feats = train_g.nodes['pathway'].data['feat']\n",
    "node_features = {'drug': drug_feats, 'target': target_feats, 'enzyme': enzyme_feats, 'pathway': pathway_feats}\n",
    "\n",
    "opt = torch.optim.Adam(model.parameters())\n",
    "\n",
    "for epoch in range(100):\n",
    "    train_neg_g = construct_negative_graph(train_g, k, ('drug', 'interacts', 'drug'))\n",
    "    pos_score, neg_score = model(train_g, train_neg_g, node_features, ('drug', 'interacts', 'drug'))\n",
    "    loss = compute_loss(pos_score, neg_score)\n",
    "    opt.zero_grad()\n",
    "    loss.backward()\n",
    "    opt.step()\n",
    "    print(loss.item())"
   ]
  },
  {
   "cell_type": "code",
   "execution_count": null,
   "metadata": {},
   "outputs": [],
   "source": [
    "from sklearn.metrics import roc_curve, auc, precision_recall_curve\n",
    "import matplotlib.pyplot as plt\n",
    "\n",
    "with torch.no_grad():\n",
    "    test_neg_g = construct_negative_graph(test_g, k, ('drug', 'interacts', 'drug'))\n",
    "    pos_score, neg_score = model(test_g, test_neg_g, node_features, ('drug', 'interacts', 'drug'))\n",
    "\n",
    "    pos_score = pos_score.numpy()\n",
    "    neg_score = neg_score.numpy()\n",
    "\n",
    "    pos_labels = np.ones(len(pos_score))\n",
    "    neg_labels = np.zeros(len(neg_score))\n",
    "\n",
    "    all_scores = np.concatenate([pos_score, neg_score])\n",
    "    all_labels = np.concatenate([pos_labels, neg_labels])\n",
    "\n",
    "    fpr, tpr, _ = roc_curve(all_labels, all_scores)\n",
    "\n",
    "    roc_auc = auc(fpr, tpr)\n",
    "    print(\"AUC:\", roc_auc)\n",
    "\n",
    "    precision, recall, _ = precision_recall_curve(all_labels, all_scores)\n",
    "\n",
    "    f1 = 2 * (precision * recall) / (precision + recall)\n",
    "\n",
    "    plt.figure()\n",
    "    lw = 2\n",
    "    plt.plot(fpr, tpr, color='darkorange', lw=lw, label='ROC curve (area = %0.2f)' % roc_auc)\n",
    "    plt.plot([0, 1], [0, 1], color='navy', lw=lw, linestyle='--')\n",
    "    plt.xlim([0.0, 1.0])\n",
    "    plt.ylim([0.0, 1.05])\n",
    "    plt.xlabel('False Positive Rate')\n",
    "    plt.ylabel('True Positive Rate')\n",
    "    plt.title('Receiver Operating Characteristic')\n",
    "    plt.legend(loc=\"lower right\")\n",
    "    plt.figtext(0.5, -0.02, 'AUC = %0.2f' % roc_auc, wrap=True, horizontalalignment='center', fontsize=12)\n",
    "    plt.show()\n",
    "\n",
    "    # Plot Precision vs. Recall\n",
    "    plt.figure()\n",
    "    plt.plot(recall, precision, color='blue', lw=lw, label='Precision-Recall curve')\n",
    "    plt.xlabel('Recall')\n",
    "    plt.ylabel('Precision')\n",
    "    plt.title('Precision vs. Recall')\n",
    "    plt.legend(loc=\"lower left\")\n",
    "    plt.show()\n",
    "\n",
    "    # Plot F1 Score vs. Recall\n",
    "    plt.figure()\n",
    "    plt.plot(recall, f1, color='green', lw=lw, linestyle='--', label='F1 Score')\n",
    "    plt.xlabel('Recall')\n",
    "    plt.ylabel('F1 Score')\n",
    "    plt.title('F1 Score vs. Recall')\n",
    "    plt.legend(loc=\"lower left\")\n",
    "    plt.show()\n"
   ]
  },
  {
   "cell_type": "code",
   "execution_count": null,
   "metadata": {},
   "outputs": [],
   "source": [
    "from sklearn.metrics import confusion_matrix\n",
    "import seaborn as sns\n",
    "\n",
    "def plot_confusion_matrix(y_true, y_pred):\n",
    "    cm = confusion_matrix(y_true, y_pred)\n",
    "    plt.figure(figsize=(8, 6))\n",
    "    sns.heatmap(cm, annot=True, fmt=\"d\", cmap=\"Blues\", xticklabels=['Negative', 'Positive'], yticklabels=['Negative', 'Positive'])\n",
    "    plt.xlabel('Predicted labels')\n",
    "    plt.ylabel('True labels')\n",
    "    plt.title('Confusion Matrix')\n",
    "    plt.show()\n",
    "\n",
    "threshold = 0.5\n",
    "y_true = [1] * len(pos_score) + [0] * len(neg_score)\n",
    "y_pred = [1 if s >= threshold else 0 for s in pos_score] + [1 if s >= threshold else 0 for s in neg_score]\n",
    "\n",
    "plot_confusion_matrix(y_true, y_pred)\n"
   ]
  }
 ],
 "metadata": {
  "kernelspec": {
   "display_name": "venv",
   "language": "python",
   "name": "python3"
  },
  "language_info": {
   "codemirror_mode": {
    "name": "ipython",
    "version": 3
   },
   "file_extension": ".py",
   "mimetype": "text/x-python",
   "name": "python",
   "nbconvert_exporter": "python",
   "pygments_lexer": "ipython3",
   "version": "3.7.12"
  }
 },
 "nbformat": 4,
 "nbformat_minor": 2
}
